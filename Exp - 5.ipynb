{
 "cells": [
  {
   "cell_type": "code",
   "execution_count": 1,
   "id": "ceef80e7",
   "metadata": {},
   "outputs": [],
   "source": [
    "import pandas as pd\n",
    "import numpy as np"
   ]
  },
  {
   "cell_type": "code",
   "execution_count": 2,
   "id": "6a814d50",
   "metadata": {},
   "outputs": [],
   "source": [
    "df = pd.read_csv('/home/admin-cse/Documents/prob.csv')"
   ]
  },
  {
   "cell_type": "code",
   "execution_count": 3,
   "id": "d9ceaa89",
   "metadata": {},
   "outputs": [
    {
     "data": {
      "text/plain": [
       "<bound method NDFrame.head of     income recreation         job   status age-group home-owner  \\\n",
       "0  medium      skiing      design   single  twenties         no   \n",
       "1     high       golf     trading  married   forties        yes   \n",
       "2      low   speedway   transport  married  thirties        yes   \n",
       "3  medium    football     banking   single  thirties        yes   \n",
       "4     high     flying       media  married  fifties         yes   \n",
       "5      low   football    security   single  twenties         no   \n",
       "6  medium        golf       media   single  thirties        yes   \n",
       "7  medium        golf   transport  married   forties        yes   \n",
       "8     high     skiing     banking   single  thirties        yes   \n",
       "9      low       golf  unemployed  married   forties        yes   \n",
       "\n",
       "  credit-worthiness  \n",
       "0          highRisk  \n",
       "1           lowRisk  \n",
       "2           medRisk  \n",
       "3           lowRisk  \n",
       "4          highRisk  \n",
       "5           medRisk  \n",
       "6           medRisk  \n",
       "7           lowRisk  \n",
       "8          highRisk  \n",
       "9          highRisk  >"
      ]
     },
     "execution_count": 3,
     "metadata": {},
     "output_type": "execute_result"
    }
   ],
   "source": [
    "df.head"
   ]
  },
  {
   "cell_type": "code",
   "execution_count": 4,
   "id": "e52cb392",
   "metadata": {},
   "outputs": [
    {
     "data": {
      "text/plain": [
       "10"
      ]
     },
     "execution_count": 4,
     "metadata": {},
     "output_type": "execute_result"
    }
   ],
   "source": [
    "len(df)"
   ]
  },
  {
   "cell_type": "code",
   "execution_count": 5,
   "id": "3d336d46",
   "metadata": {},
   "outputs": [
    {
     "name": "stdout",
     "output_type": "stream",
     "text": [
      "40.0\n"
     ]
    }
   ],
   "source": [
    "x=(df['recreation'] == 'golf').sum()\n",
    "unconditional_golf=x/len(df)\n",
    "print(unconditional_golf*100)"
   ]
  },
  {
   "cell_type": "code",
   "execution_count": 6,
   "id": "4ab97013",
   "metadata": {},
   "outputs": [
    {
     "data": {
      "text/html": [
       "<div>\n",
       "<style scoped>\n",
       "    .dataframe tbody tr th:only-of-type {\n",
       "        vertical-align: middle;\n",
       "    }\n",
       "\n",
       "    .dataframe tbody tr th {\n",
       "        vertical-align: top;\n",
       "    }\n",
       "\n",
       "    .dataframe thead th {\n",
       "        text-align: right;\n",
       "    }\n",
       "</style>\n",
       "<table border=\"1\" class=\"dataframe\">\n",
       "  <thead>\n",
       "    <tr style=\"text-align: right;\">\n",
       "      <th></th>\n",
       "      <th>income</th>\n",
       "      <th>recreation</th>\n",
       "      <th>job</th>\n",
       "      <th>status</th>\n",
       "      <th>age-group</th>\n",
       "      <th>home-owner</th>\n",
       "      <th>credit-worthiness</th>\n",
       "      <th>status_new</th>\n",
       "    </tr>\n",
       "  </thead>\n",
       "  <tbody>\n",
       "    <tr>\n",
       "      <th>0</th>\n",
       "      <td>medium</td>\n",
       "      <td>skiing</td>\n",
       "      <td>design</td>\n",
       "      <td>single</td>\n",
       "      <td>twenties</td>\n",
       "      <td>no</td>\n",
       "      <td>highRisk</td>\n",
       "      <td>1</td>\n",
       "    </tr>\n",
       "    <tr>\n",
       "      <th>1</th>\n",
       "      <td>high</td>\n",
       "      <td>golf</td>\n",
       "      <td>trading</td>\n",
       "      <td>married</td>\n",
       "      <td>forties</td>\n",
       "      <td>yes</td>\n",
       "      <td>lowRisk</td>\n",
       "      <td>0</td>\n",
       "    </tr>\n",
       "    <tr>\n",
       "      <th>2</th>\n",
       "      <td>low</td>\n",
       "      <td>speedway</td>\n",
       "      <td>transport</td>\n",
       "      <td>married</td>\n",
       "      <td>thirties</td>\n",
       "      <td>yes</td>\n",
       "      <td>medRisk</td>\n",
       "      <td>0</td>\n",
       "    </tr>\n",
       "  </tbody>\n",
       "</table>\n",
       "</div>"
      ],
      "text/plain": [
       "    income recreation        job   status age-group home-owner  \\\n",
       "0  medium      skiing     design   single  twenties         no   \n",
       "1     high       golf    trading  married   forties        yes   \n",
       "2      low   speedway  transport  married  thirties        yes   \n",
       "\n",
       "  credit-worthiness  status_new  \n",
       "0          highRisk           1  \n",
       "1           lowRisk           0  \n",
       "2           medRisk           0  "
      ]
     },
     "execution_count": 6,
     "metadata": {},
     "output_type": "execute_result"
    }
   ],
   "source": [
    "df['status_new'] = np.where(df['status']=='single', 1, 0)\n",
    "df.head(3)"
   ]
  },
  {
   "cell_type": "code",
   "execution_count": 8,
   "id": "870367ce",
   "metadata": {},
   "outputs": [
    {
     "data": {
      "text/html": [
       "<div>\n",
       "<style scoped>\n",
       "    .dataframe tbody tr th:only-of-type {\n",
       "        vertical-align: middle;\n",
       "    }\n",
       "\n",
       "    .dataframe tbody tr th {\n",
       "        vertical-align: top;\n",
       "    }\n",
       "\n",
       "    .dataframe thead th {\n",
       "        text-align: right;\n",
       "    }\n",
       "</style>\n",
       "<table border=\"1\" class=\"dataframe\">\n",
       "  <thead>\n",
       "    <tr style=\"text-align: right;\">\n",
       "      <th></th>\n",
       "      <th>income</th>\n",
       "      <th>recreation</th>\n",
       "      <th>job</th>\n",
       "      <th>status</th>\n",
       "      <th>age-group</th>\n",
       "      <th>home-owner</th>\n",
       "      <th>credit-worthiness</th>\n",
       "      <th>status_new</th>\n",
       "      <th>Risk_new</th>\n",
       "    </tr>\n",
       "  </thead>\n",
       "  <tbody>\n",
       "    <tr>\n",
       "      <th>0</th>\n",
       "      <td>medium</td>\n",
       "      <td>skiing</td>\n",
       "      <td>design</td>\n",
       "      <td>single</td>\n",
       "      <td>twenties</td>\n",
       "      <td>no</td>\n",
       "      <td>highRisk</td>\n",
       "      <td>1</td>\n",
       "      <td>0</td>\n",
       "    </tr>\n",
       "    <tr>\n",
       "      <th>1</th>\n",
       "      <td>high</td>\n",
       "      <td>golf</td>\n",
       "      <td>trading</td>\n",
       "      <td>married</td>\n",
       "      <td>forties</td>\n",
       "      <td>yes</td>\n",
       "      <td>lowRisk</td>\n",
       "      <td>0</td>\n",
       "      <td>0</td>\n",
       "    </tr>\n",
       "    <tr>\n",
       "      <th>2</th>\n",
       "      <td>low</td>\n",
       "      <td>speedway</td>\n",
       "      <td>transport</td>\n",
       "      <td>married</td>\n",
       "      <td>thirties</td>\n",
       "      <td>yes</td>\n",
       "      <td>medRisk</td>\n",
       "      <td>0</td>\n",
       "      <td>1</td>\n",
       "    </tr>\n",
       "  </tbody>\n",
       "</table>\n",
       "</div>"
      ],
      "text/plain": [
       "    income recreation        job   status age-group home-owner  \\\n",
       "0  medium      skiing     design   single  twenties         no   \n",
       "1     high       golf    trading  married   forties        yes   \n",
       "2      low   speedway  transport  married  thirties        yes   \n",
       "\n",
       "  credit-worthiness  status_new  Risk_new  \n",
       "0          highRisk           1         0  \n",
       "1           lowRisk           0         0  \n",
       "2           medRisk           0         1  "
      ]
     },
     "execution_count": 8,
     "metadata": {},
     "output_type": "execute_result"
    }
   ],
   "source": [
    "df['Risk_new']=np.where(df['credit-worthiness']=='medRisk',1,0)\n",
    "df.head(3)"
   ]
  },
  {
   "cell_type": "code",
   "execution_count": 12,
   "id": "c9943295",
   "metadata": {},
   "outputs": [],
   "source": [
    "df['count'] = len(df)"
   ]
  },
  {
   "cell_type": "code",
   "execution_count": 14,
   "id": "a0430673",
   "metadata": {},
   "outputs": [],
   "source": [
    "d=pd.pivot_table(\n",
    " df,\n",
    " values='count',\n",
    " index=['status_new'],\n",
    " columns=['Risk_new'],\n",
    " aggfunc=np.size,\n",
    " fill_value=0\n",
    ")"
   ]
  },
  {
   "cell_type": "code",
   "execution_count": 15,
   "id": "9d03350d",
   "metadata": {},
   "outputs": [
    {
     "name": "stdout",
     "output_type": "stream",
     "text": [
      "Risk_new    0  1\n",
      "status_new      \n",
      "0           4  1\n",
      "1           3  2\n"
     ]
    }
   ],
   "source": [
    "print(d)"
   ]
  },
  {
   "cell_type": "code",
   "execution_count": 16,
   "id": "24634951",
   "metadata": {},
   "outputs": [
    {
     "name": "stdout",
     "output_type": "stream",
     "text": [
      "the conditional probability of single given by medRisk 66.66666666666667\n"
     ]
    }
   ],
   "source": [
    "pa=(d.at[1,0]+d.at[1,1])/(d.at[1,0]+d.at[1,1]+d.at[0,0]+d.at[0,1])\n",
    "pb=(d.at[0,1]+d.at[1,1])/(d.at[1,0]+d.at[1,1]+d.at[0,0]+d.at[0,1])\n",
    "paandpb= d.at[1,1]/(d.at[1,0]+d.at[1,1]+d.at[0,0]+d.at[0,1])\n",
    "pabyb= paandpb/pb\n",
    "print('the conditional probability of single given by medRisk',pabyb*100)"
   ]
  },
  {
   "cell_type": "code",
   "execution_count": null,
   "id": "c0b13072",
   "metadata": {},
   "outputs": [],
   "source": []
  }
 ],
 "metadata": {
  "kernelspec": {
   "display_name": "Python 3 (ipykernel)",
   "language": "python",
   "name": "python3"
  },
  "language_info": {
   "codemirror_mode": {
    "name": "ipython",
    "version": 3
   },
   "file_extension": ".py",
   "mimetype": "text/x-python",
   "name": "python",
   "nbconvert_exporter": "python",
   "pygments_lexer": "ipython3",
   "version": "3.9.7"
  }
 },
 "nbformat": 4,
 "nbformat_minor": 5
}
